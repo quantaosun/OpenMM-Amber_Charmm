{
  "nbformat": 4,
  "nbformat_minor": 0,
  "metadata": {
    "colab": {
      "name": "One to rule them all_A notebook to install and use OpenMM.ipynb",
      "provenance": []
    },
    "kernelspec": {
      "name": "python3",
      "display_name": "Python 3"
    },
    "language_info": {
      "name": "python"
    },
    "accelerator": "GPU"
  },
  "cells": [
    {
      "cell_type": "markdown",
      "metadata": {
        "id": "o5SEhk7YL2VE"
      },
      "source": [
        "#This notebook can be divided to three parts.\n",
        "1. Openmm installation and a test simulation\n",
        "2. Openmm simulation with Amber input, i.e., a prmtop file, and a (inp)crd file\n",
        "3. Openmm simulation with VMD/Charmm input, i.e., a psf file and a pdb file.\n",
        "\n",
        "Note: The method of how to generate Amber or VMD/Charmm input is not incluede here, you are supposed to be confident with at least one of them before using this notebook.\n",
        "\n",
        "Created by quantaosun@gmail.com, based on the official openmm documentation in https://openmm.org/documentation \n",
        "\n",
        "A potential update would include method of standard free energy of protein ligand binding.\n",
        "\n",
        "## Note, the next 3htb, example, i.e., the first OpenMM simulation is just fro testing purpose, to verify our simulation software is working. For a more proper simulation you should use the following two, i.e., the Amber input version or the VMD/Charmm input verion."
      ]
    },
    {
      "cell_type": "code",
      "metadata": {
        "id": "x6iPrchOkbRt",
        "cellView": "form"
      },
      "source": [
        "#@title  Install Dependencies\n",
        "! wget https://repo.anaconda.com/miniconda/Miniconda3-py37_4.8.2-Linux-x86_64.sh\n",
        "! chmod +x Miniconda3-py37_4.8.2-Linux-x86_64.sh\n",
        "! bash ./Miniconda3-py37_4.8.2-Linux-x86_64.sh -b -f -p /usr/local\n",
        "#! conda install -c rdkit rdkit -y\n",
        "import sys\n",
        "sys.path.append('/usr/local/lib/python3.7/site-packages/')"
      ],
      "execution_count": null,
      "outputs": []
    },
    {
      "cell_type": "code",
      "metadata": {
        "id": "zc9QbRO7kbhb",
        "cellView": "form"
      },
      "source": [
        "#@title Install OpenMM\n",
        "!yes|conda install -c conda-forge openmm"
      ],
      "execution_count": null,
      "outputs": []
    },
    {
      "cell_type": "markdown",
      "metadata": {
        "id": "TgWca7ZxPy_C"
      },
      "source": [
        ""
      ]
    },
    {
      "cell_type": "code",
      "metadata": {
        "id": "TY2b9N3jl2Uw",
        "cellView": "form"
      },
      "source": [
        "#@title Install Pdbfixer, you could skip this step\n",
        "!yes|conda install -c conda-forge pdbfixer"
      ],
      "execution_count": null,
      "outputs": []
    },
    {
      "cell_type": "code",
      "metadata": {
        "cellView": "form",
        "id": "gDCRy7FwsgJu"
      },
      "source": [
        "#@title Verify OpenMM installation works or not.\n",
        "!python -m openmm.testInstallation"
      ],
      "execution_count": null,
      "outputs": []
    },
    {
      "cell_type": "code",
      "metadata": {
        "colab": {
          "base_uri": "https://localhost:8080/"
        },
        "id": "x8M_pSlsl5g6",
        "cellView": "form",
        "outputId": "674ac26a-2346-4a85-8e69-01c806e8d034"
      },
      "source": [
        "#@title Prepare the raw PDB structure with PDBfixer\n",
        "!pdbfixer --pdbid=3htb --output=myfile.pdb --add-residues \n",
        "from pdbfixer import PDBFixer\n",
        "from simtk.openmm.app import PDBFile\n",
        "fixer = PDBFixer(filename='myfile.pdb')\n",
        "fixer.findMissingResidues()\n",
        "fixer.findNonstandardResidues()\n",
        "fixer.replaceNonstandardResidues()\n",
        "fixer.removeHeterogens(True)\n",
        "fixer.findMissingAtoms()\n",
        "fixer.addMissingAtoms()\n",
        "fixer.addMissingHydrogens(7.0)\n",
        "fixer.addSolvent(fixer.topology.getUnitCellDimensions())\n",
        "PDBFile.writeFile(fixer.topology, fixer.positions, open('input.pdb', 'w'))"
      ],
      "execution_count": null,
      "outputs": [
        {
          "output_type": "stream",
          "name": "stderr",
          "text": [
            "Warning: importing 'simtk.openmm' is deprecated.  Import 'openmm' instead.\n"
          ]
        }
      ]
    },
    {
      "cell_type": "code",
      "metadata": {
        "id": "RJpJNOkzkbqu",
        "cellView": "form"
      },
      "source": [
        "#@title This is not a proper simulation, just for testing purpose\n",
        "from simtk.openmm.app import *\n",
        "from simtk.openmm import *\n",
        "from simtk.unit import *\n",
        "from sys import stdout\n",
        "\n",
        "pdb = PDBFile('input.pdb')\n",
        "forcefield = ForceField('amber99sb.xml', 'tip3p.xml')\n",
        "system = forcefield.createSystem(pdb.topology, nonbondedMethod=PME, nonbondedCutoff=1*nanometer, constraints=HBonds)\n",
        "integrator = LangevinIntegrator(300*kelvin, 1/picosecond, 0.002*picoseconds)\n",
        "simulation = Simulation(pdb.topology, system, integrator)\n",
        "simulation.context.setPositions(pdb.positions)\n",
        "simulation.minimizeEnergy()\n",
        "simulation.reporters.append(PDBReporter('output.pdb', 1000))\n",
        "simulation.reporters.append(StateDataReporter(stdout, 1000, step=True, potentialEnergy=True, temperature=True))\n",
        "simulation.step(100000)"
      ],
      "execution_count": null,
      "outputs": []
    },
    {
      "cell_type": "markdown",
      "metadata": {
        "id": "j2hTyzkW4W-Z"
      },
      "source": [
        "#This is an example of using Amber input, this could be a proper simulation, as long as your Amber input is good.✈"
      ]
    },
    {
      "cell_type": "code",
      "metadata": {
        "cellView": "form",
        "id": "Lij2LDur4d_6"
      },
      "source": [
        "#@title This is the code example taken from Openmm's user guide document.\n",
        "\n",
        "from openmm.app import *\n",
        "from openmm import *\n",
        "from openmm.unit import *\n",
        "from sys import stdout\n",
        "\n",
        "prmtop = AmberPrmtopFile('SYS_gaff2.prmtop')\n",
        "inpcrd = AmberInpcrdFile('SYS_gaff2.crd')\n",
        "system = prmtop.createSystem(nonbondedMethod=PME, nonbondedCutoff=1*nanometer,\n",
        "        constraints=HBonds)\n",
        "integrator = LangevinMiddleIntegrator(300*kelvin, 1/picosecond, 0.004*picoseconds)\n",
        "simulation = Simulation(prmtop.topology, system, integrator)\n",
        "simulation.context.setPositions(inpcrd.positions)\n",
        "if inpcrd.boxVectors is not None:\n",
        "    simulation.context.setPeriodicBoxVectors(*inpcrd.boxVectors)\n",
        "simulation.minimizeEnergy()\n",
        "simulation.reporters.append(PDBReporter('amber_output.pdb', 1000))\n",
        "simulation.reporters.append(StateDataReporter(stdout, 1000, step=True,\n",
        "        potentialEnergy=True, temperature=True))\n",
        "simulation.step(10000)"
      ],
      "execution_count": null,
      "outputs": []
    },
    {
      "cell_type": "markdown",
      "metadata": {
        "id": "EDsZE0UD7l8S"
      },
      "source": [
        "#This is an example of using VMD/Charmm input. This is my personal favourate, since I use VMD exclusively.✈⛹ Just be reminded the topolog and parameter stuff sometime easy to go wrong."
      ]
    },
    {
      "cell_type": "code",
      "metadata": {
        "id": "jAKBevQE-Wd4",
        "cellView": "form"
      },
      "source": [
        "#@title 6 👋Download Charmm Force Field\n",
        "!wget https://raw.githubusercontent.com/quantaosun/NAMD-MD/main/top_all36_prot.prm \n",
        "!wget https://raw.githubusercontent.com/quantaosun/NAMD-MD/main/top_all36_prot.rtf \n",
        "!wget https://raw.githubusercontent.com/quantaosun/NAMD-MD/main/toppar_water_ions.mod.str\n",
        "!wget https://raw.githubusercontent.com/quantaosun/NAMD-MD/main/toppar_water_ions.str"
      ],
      "execution_count": null,
      "outputs": []
    },
    {
      "cell_type": "code",
      "metadata": {
        "cellView": "form",
        "id": "vCz6NMwu-ZwP"
      },
      "source": [
        "#@title Be ware of topology of small molecule. Upload all the rtf and prm you would run a normal NAMD simulation, to here in order to run an OpenMM simulation."
      ],
      "execution_count": null,
      "outputs": []
    },
    {
      "cell_type": "code",
      "metadata": {
        "id": "N1EGW7D87veZ",
        "cellView": "form"
      },
      "source": [
        "#@title  This is a simulation with PSF and PDB files generated from VMD, as an input for OpenMM\n",
        "from openmm.app import *\n",
        "from openmm import *\n",
        "from openmm.unit import *\n",
        "from sys import stdout, exit, stderr\n",
        "\n",
        "psf = CharmmPsfFile('ionized.psf')\n",
        "pdb = PDBFile('ionized.pdb')\n",
        "params = CharmmParameterSet('top_all36_prot.rtf', 'top_all36_prot.prm','toppar_water_ions.mod.str','toppar_water_ions.str','ligand_ligpargen.prm','ligand_ligpargen.rtf')\n",
        "system = psf.createSystem(params, nonbondedMethod=NoCutoff,\n",
        "        nonbondedCutoff=1*nanometer, constraints=HBonds)\n",
        "integrator = LangevinMiddleIntegrator(300*kelvin, 1/picosecond, 0.004*picoseconds)\n",
        "simulation = Simulation(psf.topology, system, integrator)\n",
        "simulation.context.setPositions(pdb.positions)\n",
        "simulation.minimizeEnergy()\n",
        "simulation.reporters.append(PDBReporter('output.pdb', 1000))\n",
        "simulation.reporters.append(DCDeporter('output.pdb', 1000))\n",
        "simulation.reporters.append(StateDataReporter(stdout, 1000, step=True,\n",
        "        potentialEnergy=True, temperature=True))\n",
        "simulation.step(10000)"
      ],
      "execution_count": null,
      "outputs": []
    }
  ]
}