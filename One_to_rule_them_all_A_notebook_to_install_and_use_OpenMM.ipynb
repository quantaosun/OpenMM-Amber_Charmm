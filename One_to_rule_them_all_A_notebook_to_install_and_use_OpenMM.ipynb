{
  "nbformat": 4,
  "nbformat_minor": 0,
  "metadata": {
    "colab": {
      "name": "One to rule them all_A notebook to install and use OpenMM.ipynb",
      "provenance": []
    },
    "kernelspec": {
      "name": "python3",
      "display_name": "Python 3"
    },
    "language_info": {
      "name": "python"
    },
    "accelerator": "GPU"
  },
  "cells": [
    {
      "cell_type": "markdown",
      "metadata": {
        "id": "o5SEhk7YL2VE"
      },
      "source": [
        "#This notebook can be divided to three parts.\n",
        "1. Openmm installation and a test simulation\n",
        "2. Openmm simulation with Amber input, i.e., a prmtop file, and a (inp)crd file\n",
        "3. Openmm simulation with VMD/Charmm input, i.e., a psf file and a pdb file.\n",
        "\n",
        "Note: The method of how to generate Amber or VMD/Charmm input is not incluede here, you are supposed to be confident with at least one of them before using this notebook.\n",
        "\n",
        "Created by quantaosun@gmail.com, based on the official openmm documentation in https://openmm.org/documentation \n",
        "\n",
        "A potential update would include method of standard free energy of protein ligand binding.\n",
        "\n",
        "## Note, the next 3htb, example, i.e., the first OpenMM simulation is just fro testing purpose, to verify our simulation software is working. For a more proper simulation you should use the following two, i.e., the Amber input version or the VMD/Charmm input verion."
      ]
    },
    {
      "cell_type": "code",
      "metadata": {
        "id": "x6iPrchOkbRt",
        "cellView": "form",
        "outputId": "ccb7d158-e885-4996-c7f9-15babefe4a5e",
        "colab": {
          "base_uri": "https://localhost:8080/"
        }
      },
      "source": [
        "#@title  Install Dependencies\n",
        "! wget https://repo.anaconda.com/miniconda/Miniconda3-py37_4.8.2-Linux-x86_64.sh\n",
        "! chmod +x Miniconda3-py37_4.8.2-Linux-x86_64.sh\n",
        "! bash ./Miniconda3-py37_4.8.2-Linux-x86_64.sh -b -f -p /usr/local\n",
        "#! conda install -c rdkit rdkit -y\n",
        "import sys\n",
        "sys.path.append('/usr/local/lib/python3.7/site-packages/')"
      ],
      "execution_count": 1,
      "outputs": [
        {
          "output_type": "stream",
          "name": "stdout",
          "text": [
            "--2021-11-15 04:52:19--  https://repo.anaconda.com/miniconda/Miniconda3-py37_4.8.2-Linux-x86_64.sh\n",
            "Resolving repo.anaconda.com (repo.anaconda.com)... 104.16.131.3, 104.16.130.3, 2606:4700::6810:8303, ...\n",
            "Connecting to repo.anaconda.com (repo.anaconda.com)|104.16.131.3|:443... connected.\n",
            "HTTP request sent, awaiting response... 200 OK\n",
            "Length: 85055499 (81M) [application/x-sh]\n",
            "Saving to: ‘Miniconda3-py37_4.8.2-Linux-x86_64.sh’\n",
            "\n",
            "Miniconda3-py37_4.8 100%[===================>]  81.12M   161MB/s    in 0.5s    \n",
            "\n",
            "2021-11-15 04:52:20 (161 MB/s) - ‘Miniconda3-py37_4.8.2-Linux-x86_64.sh’ saved [85055499/85055499]\n",
            "\n",
            "PREFIX=/usr/local\n",
            "Unpacking payload ...\n",
            "Collecting package metadata (current_repodata.json): - \b\b\\ \b\b| \b\bdone\n",
            "Solving environment: - \b\b\\ \b\bdone\n",
            "\n",
            "## Package Plan ##\n",
            "\n",
            "  environment location: /usr/local\n",
            "\n",
            "  added / updated specs:\n",
            "    - _libgcc_mutex==0.1=main\n",
            "    - asn1crypto==1.3.0=py37_0\n",
            "    - ca-certificates==2020.1.1=0\n",
            "    - certifi==2019.11.28=py37_0\n",
            "    - cffi==1.14.0=py37h2e261b9_0\n",
            "    - chardet==3.0.4=py37_1003\n",
            "    - conda-package-handling==1.6.0=py37h7b6447c_0\n",
            "    - conda==4.8.2=py37_0\n",
            "    - cryptography==2.8=py37h1ba5d50_0\n",
            "    - idna==2.8=py37_0\n",
            "    - ld_impl_linux-64==2.33.1=h53a641e_7\n",
            "    - libedit==3.1.20181209=hc058e9b_0\n",
            "    - libffi==3.2.1=hd88cf55_4\n",
            "    - libgcc-ng==9.1.0=hdf63c60_0\n",
            "    - libstdcxx-ng==9.1.0=hdf63c60_0\n",
            "    - ncurses==6.2=he6710b0_0\n",
            "    - openssl==1.1.1d=h7b6447c_4\n",
            "    - pip==20.0.2=py37_1\n",
            "    - pycosat==0.6.3=py37h7b6447c_0\n",
            "    - pycparser==2.19=py37_0\n",
            "    - pyopenssl==19.1.0=py37_0\n",
            "    - pysocks==1.7.1=py37_0\n",
            "    - python==3.7.6=h0371630_2\n",
            "    - readline==7.0=h7b6447c_5\n",
            "    - requests==2.22.0=py37_1\n",
            "    - ruamel_yaml==0.15.87=py37h7b6447c_0\n",
            "    - setuptools==45.2.0=py37_0\n",
            "    - six==1.14.0=py37_0\n",
            "    - sqlite==3.31.1=h7b6447c_0\n",
            "    - tk==8.6.8=hbc83047_0\n",
            "    - tqdm==4.42.1=py_0\n",
            "    - urllib3==1.25.8=py37_0\n",
            "    - wheel==0.34.2=py37_0\n",
            "    - xz==5.2.4=h14c3975_4\n",
            "    - yaml==0.1.7=had09818_2\n",
            "    - zlib==1.2.11=h7b6447c_3\n",
            "\n",
            "\n",
            "The following NEW packages will be INSTALLED:\n",
            "\n",
            "  _libgcc_mutex      pkgs/main/linux-64::_libgcc_mutex-0.1-main\n",
            "  asn1crypto         pkgs/main/linux-64::asn1crypto-1.3.0-py37_0\n",
            "  ca-certificates    pkgs/main/linux-64::ca-certificates-2020.1.1-0\n",
            "  certifi            pkgs/main/linux-64::certifi-2019.11.28-py37_0\n",
            "  cffi               pkgs/main/linux-64::cffi-1.14.0-py37h2e261b9_0\n",
            "  chardet            pkgs/main/linux-64::chardet-3.0.4-py37_1003\n",
            "  conda              pkgs/main/linux-64::conda-4.8.2-py37_0\n",
            "  conda-package-han~ pkgs/main/linux-64::conda-package-handling-1.6.0-py37h7b6447c_0\n",
            "  cryptography       pkgs/main/linux-64::cryptography-2.8-py37h1ba5d50_0\n",
            "  idna               pkgs/main/linux-64::idna-2.8-py37_0\n",
            "  ld_impl_linux-64   pkgs/main/linux-64::ld_impl_linux-64-2.33.1-h53a641e_7\n",
            "  libedit            pkgs/main/linux-64::libedit-3.1.20181209-hc058e9b_0\n",
            "  libffi             pkgs/main/linux-64::libffi-3.2.1-hd88cf55_4\n",
            "  libgcc-ng          pkgs/main/linux-64::libgcc-ng-9.1.0-hdf63c60_0\n",
            "  libstdcxx-ng       pkgs/main/linux-64::libstdcxx-ng-9.1.0-hdf63c60_0\n",
            "  ncurses            pkgs/main/linux-64::ncurses-6.2-he6710b0_0\n",
            "  openssl            pkgs/main/linux-64::openssl-1.1.1d-h7b6447c_4\n",
            "  pip                pkgs/main/linux-64::pip-20.0.2-py37_1\n",
            "  pycosat            pkgs/main/linux-64::pycosat-0.6.3-py37h7b6447c_0\n",
            "  pycparser          pkgs/main/linux-64::pycparser-2.19-py37_0\n",
            "  pyopenssl          pkgs/main/linux-64::pyopenssl-19.1.0-py37_0\n",
            "  pysocks            pkgs/main/linux-64::pysocks-1.7.1-py37_0\n",
            "  python             pkgs/main/linux-64::python-3.7.6-h0371630_2\n",
            "  readline           pkgs/main/linux-64::readline-7.0-h7b6447c_5\n",
            "  requests           pkgs/main/linux-64::requests-2.22.0-py37_1\n",
            "  ruamel_yaml        pkgs/main/linux-64::ruamel_yaml-0.15.87-py37h7b6447c_0\n",
            "  setuptools         pkgs/main/linux-64::setuptools-45.2.0-py37_0\n",
            "  six                pkgs/main/linux-64::six-1.14.0-py37_0\n",
            "  sqlite             pkgs/main/linux-64::sqlite-3.31.1-h7b6447c_0\n",
            "  tk                 pkgs/main/linux-64::tk-8.6.8-hbc83047_0\n",
            "  tqdm               pkgs/main/noarch::tqdm-4.42.1-py_0\n",
            "  urllib3            pkgs/main/linux-64::urllib3-1.25.8-py37_0\n",
            "  wheel              pkgs/main/linux-64::wheel-0.34.2-py37_0\n",
            "  xz                 pkgs/main/linux-64::xz-5.2.4-h14c3975_4\n",
            "  yaml               pkgs/main/linux-64::yaml-0.1.7-had09818_2\n",
            "  zlib               pkgs/main/linux-64::zlib-1.2.11-h7b6447c_3\n",
            "\n",
            "\n",
            "Preparing transaction: / \b\b- \b\b\\ \b\bdone\n",
            "Executing transaction: / \b\b- \b\b\\ \b\b| \b\b/ \b\b- \b\b\\ \b\b| \b\b/ \b\b- \b\b\\ \b\b| \b\b/ \b\bdone\n",
            "installation finished.\n",
            "WARNING:\n",
            "    You currently have a PYTHONPATH environment variable set. This may cause\n",
            "    unexpected behavior when running the Python interpreter in Miniconda3.\n",
            "    For best results, please verify that your PYTHONPATH only points to\n",
            "    directories of packages that are compatible with the Python interpreter\n",
            "    in Miniconda3: /usr/local\n"
          ]
        }
      ]
    },
    {
      "cell_type": "code",
      "metadata": {
        "id": "zc9QbRO7kbhb",
        "cellView": "form",
        "outputId": "591a9746-889e-41ef-8301-96aa1dc798a1",
        "colab": {
          "base_uri": "https://localhost:8080/"
        }
      },
      "source": [
        "#@title Install OpenMM\n",
        "!yes|conda install -c conda-forge openmm"
      ],
      "execution_count": 2,
      "outputs": [
        {
          "output_type": "stream",
          "name": "stdout",
          "text": [
            "Collecting package metadata (current_repodata.json): - \b\b\\ \b\b| \b\b/ \b\b- \b\b\\ \b\b| \b\b/ \b\b- \b\b\\ \b\b| \b\b/ \b\b- \b\b\\ \b\b| \b\b/ \b\b- \b\b\\ \b\b| \b\b/ \b\b- \b\b\\ \b\b| \b\b/ \b\b- \b\b\\ \b\b| \b\b/ \b\b- \b\b\\ \b\b| \b\b/ \b\b- \b\b\\ \b\b| \b\b/ \b\b- \b\b\\ \b\b| \b\b/ \b\b- \b\b\\ \b\b| \b\b/ \b\b- \b\b\\ \b\b| \b\b/ \b\b- \b\b\\ \b\b| \b\b/ \b\b- \b\b\\ \b\b| \b\b/ \b\b- \b\b\\ \b\b| \b\b/ \b\b- \b\b\\ \b\b| \b\b/ \b\b- \b\b\\ \b\b| \b\b/ \b\b- \b\b\\ \b\b| \b\b/ \b\b- \b\b\\ \b\b| \b\b/ \b\b- \b\b\\ \b\bdone\n",
            "Solving environment: / \b\b- \b\b\\ \b\b| \b\b/ \b\b- \b\b\\ \b\b| \b\b/ \b\b- \b\b\\ \b\b| \b\b/ \b\b- \b\b\\ \b\b| \b\b/ \b\b- \b\b\\ \b\b| \b\b/ \b\b- \b\b\\ \b\b| \b\b/ \b\b- \b\b\\ \b\b| \b\b/ \b\b- \b\b\\ \b\b| \b\b/ \b\b- \b\b\\ \b\b| \b\bdone\n",
            "\n",
            "\n",
            "==> WARNING: A newer version of conda exists. <==\n",
            "  current version: 4.8.2\n",
            "  latest version: 4.10.3\n",
            "\n",
            "Please update conda by running\n",
            "\n",
            "    $ conda update -n base -c defaults conda\n",
            "\n",
            "\n",
            "\n",
            "## Package Plan ##\n",
            "\n",
            "  environment location: /usr/local\n",
            "\n",
            "  added / updated specs:\n",
            "    - openmm\n",
            "\n",
            "\n",
            "The following packages will be downloaded:\n",
            "\n",
            "    package                    |            build\n",
            "    ---------------------------|-----------------\n",
            "    _libgcc_mutex-0.1          |      conda_forge           3 KB  conda-forge\n",
            "    _openmp_mutex-4.5          |            1_gnu          22 KB  conda-forge\n",
            "    ca-certificates-2021.10.8  |       ha878542_0         139 KB  conda-forge\n",
            "    certifi-2021.10.8          |   py37h89c1867_1         145 KB  conda-forge\n",
            "    conda-4.10.3               |   py37h89c1867_3         3.1 MB  conda-forge\n",
            "    cudatoolkit-10.2.89        |       hfd86e86_1       365.1 MB\n",
            "    fftw-3.3.10                |nompi_h74d3f13_101         6.4 MB  conda-forge\n",
            "    libblas-3.9.0              |12_linux64_openblas          12 KB  conda-forge\n",
            "    libcblas-3.9.0             |12_linux64_openblas          12 KB  conda-forge\n",
            "    libgcc-ng-11.2.0           |      h1d223b6_11         887 KB  conda-forge\n",
            "    libgfortran-ng-11.2.0      |      h69a702a_11          19 KB  conda-forge\n",
            "    libgfortran5-11.2.0        |      h5c6108e_11         1.7 MB  conda-forge\n",
            "    libgomp-11.2.0             |      h1d223b6_11         427 KB  conda-forge\n",
            "    liblapack-3.9.0            |12_linux64_openblas          12 KB  conda-forge\n",
            "    libopenblas-0.3.18         |pthreads_h8fe5266_0         9.6 MB  conda-forge\n",
            "    numpy-1.21.4               |   py37h31617e3_0         6.1 MB  conda-forge\n",
            "    ocl-icd-2.3.1              |       h7f98852_0         119 KB  conda-forge\n",
            "    ocl-icd-system-1.0.0       |                1           4 KB  conda-forge\n",
            "    openmm-7.6.0               |   py37hb6a88b9_0        10.8 MB  conda-forge\n",
            "    openssl-1.1.1l             |       h7f98852_0         2.1 MB  conda-forge\n",
            "    python_abi-3.7             |          2_cp37m           4 KB  conda-forge\n",
            "    ------------------------------------------------------------\n",
            "                                           Total:       406.6 MB\n",
            "\n",
            "The following NEW packages will be INSTALLED:\n",
            "\n",
            "  _openmp_mutex      conda-forge/linux-64::_openmp_mutex-4.5-1_gnu\n",
            "  cudatoolkit        pkgs/main/linux-64::cudatoolkit-10.2.89-hfd86e86_1\n",
            "  fftw               conda-forge/linux-64::fftw-3.3.10-nompi_h74d3f13_101\n",
            "  libblas            conda-forge/linux-64::libblas-3.9.0-12_linux64_openblas\n",
            "  libcblas           conda-forge/linux-64::libcblas-3.9.0-12_linux64_openblas\n",
            "  libgfortran-ng     conda-forge/linux-64::libgfortran-ng-11.2.0-h69a702a_11\n",
            "  libgfortran5       conda-forge/linux-64::libgfortran5-11.2.0-h5c6108e_11\n",
            "  libgomp            conda-forge/linux-64::libgomp-11.2.0-h1d223b6_11\n",
            "  liblapack          conda-forge/linux-64::liblapack-3.9.0-12_linux64_openblas\n",
            "  libopenblas        conda-forge/linux-64::libopenblas-0.3.18-pthreads_h8fe5266_0\n",
            "  numpy              conda-forge/linux-64::numpy-1.21.4-py37h31617e3_0\n",
            "  ocl-icd            conda-forge/linux-64::ocl-icd-2.3.1-h7f98852_0\n",
            "  ocl-icd-system     conda-forge/linux-64::ocl-icd-system-1.0.0-1\n",
            "  openmm             conda-forge/linux-64::openmm-7.6.0-py37hb6a88b9_0\n",
            "  python_abi         conda-forge/linux-64::python_abi-3.7-2_cp37m\n",
            "\n",
            "The following packages will be UPDATED:\n",
            "\n",
            "  ca-certificates     pkgs/main::ca-certificates-2020.1.1-0 --> conda-forge::ca-certificates-2021.10.8-ha878542_0\n",
            "  certifi              pkgs/main::certifi-2019.11.28-py37_0 --> conda-forge::certifi-2021.10.8-py37h89c1867_1\n",
            "  conda                       pkgs/main::conda-4.8.2-py37_0 --> conda-forge::conda-4.10.3-py37h89c1867_3\n",
            "  libgcc-ng           pkgs/main::libgcc-ng-9.1.0-hdf63c60_0 --> conda-forge::libgcc-ng-11.2.0-h1d223b6_11\n",
            "  openssl              pkgs/main::openssl-1.1.1d-h7b6447c_4 --> conda-forge::openssl-1.1.1l-h7f98852_0\n",
            "\n",
            "The following packages will be SUPERSEDED by a higher-priority channel:\n",
            "\n",
            "  _libgcc_mutex           pkgs/main::_libgcc_mutex-0.1-main --> conda-forge::_libgcc_mutex-0.1-conda_forge\n",
            "\n",
            "\n",
            "Proceed ([y]/n)? \n",
            "\n",
            "Downloading and Extracting Packages\n",
            "ocl-icd-system-1.0.0 | 4 KB      | : 100% 1.0/1 [00:00<00:00, 13.76it/s]\n",
            "libopenblas-0.3.18   | 9.6 MB    | : 100% 1.0/1 [00:01<00:00,  1.31s/it]               \n",
            "certifi-2021.10.8    | 145 KB    | : 100% 1.0/1 [00:00<00:00, 21.39it/s]\n",
            "cudatoolkit-10.2.89  | 365.1 MB  | : 100% 1.0/1 [00:08<00:00,  8.93s/it]               \n",
            "liblapack-3.9.0      | 12 KB     | : 100% 1.0/1 [00:00<00:00, 29.07it/s]\n",
            "_openmp_mutex-4.5    | 22 KB     | : 100% 1.0/1 [00:00<00:00, 28.89it/s]\n",
            "libgfortran5-11.2.0  | 1.7 MB    | : 100% 1.0/1 [00:00<00:00,  3.12it/s]\n",
            "_libgcc_mutex-0.1    | 3 KB      | : 100% 1.0/1 [00:00<00:00, 34.43it/s]\n",
            "ca-certificates-2021 | 139 KB    | : 100% 1.0/1 [00:00<00:00, 23.02it/s]\n",
            "openssl-1.1.1l       | 2.1 MB    | : 100% 1.0/1 [00:00<00:00,  3.16it/s]\n",
            "libblas-3.9.0        | 12 KB     | : 100% 1.0/1 [00:00<00:00, 30.86it/s]\n",
            "libcblas-3.9.0       | 12 KB     | : 100% 1.0/1 [00:00<00:00, 33.60it/s]\n",
            "libgfortran-ng-11.2. | 19 KB     | : 100% 1.0/1 [00:00<00:00, 32.13it/s]\n",
            "fftw-3.3.10          | 6.4 MB    | : 100% 1.0/1 [00:01<00:00,  1.43it/s]                \n",
            "ocl-icd-2.3.1        | 119 KB    | : 100% 1.0/1 [00:00<00:00, 14.03it/s]\n",
            "python_abi-3.7       | 4 KB      | : 100% 1.0/1 [00:00<00:00, 29.66it/s]\n",
            "libgomp-11.2.0       | 427 KB    | : 100% 1.0/1 [00:00<00:00, 12.57it/s]\n",
            "openmm-7.6.0         | 10.8 MB   | : 100% 1.0/1 [00:02<00:00,  2.45s/it]               \n",
            "numpy-1.21.4         | 6.1 MB    | : 100% 1.0/1 [00:01<00:00,  1.14s/it]\n",
            "conda-4.10.3         | 3.1 MB    | : 100% 1.0/1 [00:00<00:00,  1.87it/s]\n",
            "libgcc-ng-11.2.0     | 887 KB    | : 100% 1.0/1 [00:00<00:00,  6.88it/s]\n",
            "Preparing transaction: - \b\bdone\n",
            "Verifying transaction: | \b\b/ \b\b- \b\b\\ \b\bdone\n",
            "Executing transaction: / \b\b- \b\b\\ \b\b| \b\b/ \b\b- \b\bdone\n"
          ]
        }
      ]
    },
    {
      "cell_type": "markdown",
      "metadata": {
        "id": "TgWca7ZxPy_C"
      },
      "source": [
        ""
      ]
    },
    {
      "cell_type": "code",
      "metadata": {
        "id": "TY2b9N3jl2Uw",
        "cellView": "form",
        "outputId": "ee52b5f5-bf20-46f6-b47a-f6795367ee88",
        "colab": {
          "base_uri": "https://localhost:8080/"
        }
      },
      "source": [
        "#@title Install Pdbfixer, you could skip this step\n",
        "!yes|conda install -c conda-forge pdbfixer"
      ],
      "execution_count": 3,
      "outputs": [
        {
          "output_type": "stream",
          "name": "stdout",
          "text": [
            "Collecting package metadata (current_repodata.json): - \b\b\\ \b\b| \b\b/ \b\b- \b\b\\ \b\b| \b\b/ \b\b- \b\b\\ \b\b| \b\b/ \b\b- \b\b\\ \b\b| \b\b/ \b\bdone\n",
            "Solving environment: \\ \b\b| \b\b/ \b\b- \b\b\\ \b\b| \b\b/ \b\b- \b\b\\ \b\b| \b\b/ \b\b- \b\bdone\n",
            "\n",
            "## Package Plan ##\n",
            "\n",
            "  environment location: /usr/local\n",
            "\n",
            "  added / updated specs:\n",
            "    - pdbfixer\n",
            "\n",
            "\n",
            "The following packages will be downloaded:\n",
            "\n",
            "    package                    |            build\n",
            "    ---------------------------|-----------------\n",
            "    pdbfixer-1.8.1             |     pyh6c4a22f_0         498 KB  conda-forge\n",
            "    ------------------------------------------------------------\n",
            "                                           Total:         498 KB\n",
            "\n",
            "The following NEW packages will be INSTALLED:\n",
            "\n",
            "  pdbfixer           conda-forge/noarch::pdbfixer-1.8.1-pyh6c4a22f_0\n",
            "\n",
            "\n",
            "Proceed ([y]/n)? \n",
            "\n",
            "Downloading and Extracting Packages\n",
            "pdbfixer-1.8.1       | 498 KB    | : 100% 1.0/1 [00:00<00:00,  5.86it/s]\n",
            "Preparing transaction: | \b\bdone\n",
            "Verifying transaction: - \b\bdone\n",
            "Executing transaction: | \b\b/ \b\b- \b\b\\ \b\bdone\n"
          ]
        }
      ]
    },
    {
      "cell_type": "code",
      "metadata": {
        "cellView": "form",
        "id": "gDCRy7FwsgJu",
        "outputId": "5573c8ea-f8a4-485f-8bdc-698f56fecbb4",
        "colab": {
          "base_uri": "https://localhost:8080/"
        }
      },
      "source": [
        "#@title Verify OpenMM installation works or not.\n",
        "!python -m openmm.testInstallation"
      ],
      "execution_count": 4,
      "outputs": [
        {
          "output_type": "stream",
          "name": "stdout",
          "text": [
            "\n",
            "OpenMM Version: 7.6\n",
            "Git Revision: ad113a0cb37991a2de67a08026cf3b91616bafbe\n",
            "\n",
            "There are 4 Platforms available:\n",
            "\n",
            "1 Reference - Successfully computed forces\n",
            "2 CPU - Successfully computed forces\n",
            "3 CUDA - Successfully computed forces\n",
            "4 OpenCL - Successfully computed forces\n",
            "\n",
            "Median difference in forces between platforms:\n",
            "\n",
            "Reference vs. CPU: 6.29811e-06\n",
            "Reference vs. CUDA: 6.726e-06\n",
            "CPU vs. CUDA: 7.4071e-07\n",
            "Reference vs. OpenCL: 6.76294e-06\n",
            "CPU vs. OpenCL: 8.04873e-07\n",
            "CUDA vs. OpenCL: 2.6522e-07\n",
            "\n",
            "All differences are within tolerance.\n"
          ]
        }
      ]
    },
    {
      "cell_type": "code",
      "metadata": {
        "colab": {
          "base_uri": "https://localhost:8080/"
        },
        "id": "x8M_pSlsl5g6",
        "cellView": "form",
        "outputId": "591e04dc-9c75-48fa-d85c-3273413963fc"
      },
      "source": [
        "#@title Prepare the raw PDB structure with PDBfixer\n",
        "!pdbfixer --pdbid=3htb --output=myfile.pdb --add-residues \n",
        "from pdbfixer import PDBFixer\n",
        "from simtk.openmm.app import PDBFile\n",
        "fixer = PDBFixer(filename='myfile.pdb')\n",
        "fixer.findMissingResidues()\n",
        "fixer.findNonstandardResidues()\n",
        "fixer.replaceNonstandardResidues()\n",
        "fixer.removeHeterogens(True)\n",
        "fixer.findMissingAtoms()\n",
        "fixer.addMissingAtoms()\n",
        "fixer.addMissingHydrogens(7.0)\n",
        "fixer.addSolvent(fixer.topology.getUnitCellDimensions())\n",
        "PDBFile.writeFile(fixer.topology, fixer.positions, open('input.pdb', 'w'))"
      ],
      "execution_count": 5,
      "outputs": [
        {
          "output_type": "stream",
          "name": "stdout",
          "text": [
            "Warning: importing 'simtk.openmm' is deprecated.  Import 'openmm' instead.\n"
          ]
        },
        {
          "output_type": "stream",
          "name": "stderr",
          "text": [
            "Warning: importing 'simtk.openmm' is deprecated.  Import 'openmm' instead.\n"
          ]
        }
      ]
    },
    {
      "cell_type": "code",
      "metadata": {
        "id": "RJpJNOkzkbqu",
        "cellView": "form",
        "outputId": "9b1a2863-96b8-42d9-ffdf-f55ad04f5b25",
        "colab": {
          "base_uri": "https://localhost:8080/"
        }
      },
      "source": [
        "#@title This is not a proper simulation, just for testing purpose\n",
        "from simtk.openmm.app import *\n",
        "from simtk.openmm import *\n",
        "from simtk.unit import *\n",
        "from sys import stdout\n",
        "\n",
        "pdb = PDBFile('input.pdb')\n",
        "forcefield = ForceField('amber99sb.xml', 'tip3p.xml')\n",
        "system = forcefield.createSystem(pdb.topology, nonbondedMethod=PME, nonbondedCutoff=1*nanometer, constraints=HBonds)\n",
        "integrator = LangevinIntegrator(300*kelvin, 1/picosecond, 0.002*picoseconds)\n",
        "simulation = Simulation(pdb.topology, system, integrator)\n",
        "simulation.context.setPositions(pdb.positions)\n",
        "simulation.minimizeEnergy()\n",
        "simulation.reporters.append(PDBReporter('output.pdb', 1000))\n",
        "simulation.reporters.append(StateDataReporter(stdout, 1000, step=True, potentialEnergy=True, temperature=True))\n",
        "simulation.step(100000)"
      ],
      "execution_count": 6,
      "outputs": [
        {
          "output_type": "stream",
          "name": "stdout",
          "text": [
            "#\"Step\",\"Potential Energy (kJ/mole)\",\"Temperature (K)\"\n",
            "1000,-393063.51718441583,250.46731509114073\n",
            "2000,-374199.76718441583,285.3240328958211\n",
            "3000,-368188.51718441583,298.37104468228387\n",
            "4000,-367297.14218441583,299.47165154330986\n",
            "5000,-366620.89218441583,298.3527292026586\n",
            "6000,-366715.14218441583,301.62707700364314\n",
            "7000,-367285.01718441583,302.0283776377216\n",
            "8000,-366829.01718441583,299.7236989110745\n",
            "9000,-366172.01718441583,303.0446388381504\n",
            "10000,-366042.01718441583,301.0553184393321\n",
            "11000,-367739.51718441583,302.38660896385915\n",
            "12000,-367155.51718441583,299.7437662461676\n",
            "13000,-367114.01718441583,301.57057719454707\n",
            "14000,-365743.76718441583,299.2018057875568\n",
            "15000,-365781.26718441583,298.8220588027557\n",
            "16000,-367144.14218441583,304.09720076394484\n",
            "17000,-365583.26718441583,303.6682191087738\n",
            "18000,-365749.01718441583,299.29942145076484\n",
            "19000,-366929.26718441583,299.9396039003095\n",
            "20000,-367159.26718441583,296.4246116746089\n",
            "21000,-367366.64218441583,300.55243520451455\n",
            "22000,-367227.01718441583,298.8582584540688\n",
            "23000,-366655.26718441583,305.2066501316951\n",
            "24000,-367798.01718441583,298.47612818421896\n",
            "25000,-367644.76718441583,298.8068867385157\n",
            "26000,-367388.51718441583,299.8590613559968\n",
            "27000,-366848.26718441583,301.5575077098086\n",
            "28000,-367685.14218441583,297.55585702309924\n",
            "29000,-367866.39218441583,299.2718004829139\n",
            "30000,-367576.51718441583,300.0832764775543\n",
            "31000,-367358.01718441583,300.9692929078425\n",
            "32000,-367531.89218441583,298.64157819193\n",
            "33000,-367839.51718441583,300.6351947244407\n",
            "34000,-367964.76718441583,302.5898682649186\n",
            "35000,-367647.26718441583,301.89216651132426\n",
            "36000,-368139.01718441583,300.5521715931031\n",
            "37000,-367047.89218441583,298.58541071448633\n",
            "38000,-367325.39218441583,300.65363181499873\n",
            "39000,-367414.51718441583,299.4155784051011\n",
            "40000,-368038.01718441583,303.43296470623403\n",
            "41000,-366710.51718441583,299.2302994908969\n",
            "42000,-367266.39218441583,299.3666241033135\n",
            "43000,-367732.51718441583,300.2172049973871\n",
            "44000,-367240.39218441583,299.73796878953397\n",
            "45000,-366881.01718441583,300.26460434715966\n",
            "46000,-367700.51718441583,299.4315925299444\n",
            "47000,-367220.76718441583,298.93554649268276\n",
            "48000,-366388.01718441583,299.10766003658364\n",
            "49000,-367615.51718441583,299.1663056468946\n",
            "50000,-367102.14218441583,299.98807978992215\n",
            "51000,-367737.76718441583,304.14576129850377\n",
            "52000,-367370.26718441583,298.71421163832815\n",
            "53000,-366770.89218441583,300.36971088593003\n",
            "54000,-366338.89218441583,300.5608864257719\n",
            "55000,-368458.51718441583,299.25638808589065\n",
            "56000,-367172.14218441583,300.62881222501665\n",
            "57000,-368289.76718441583,300.8983573154297\n",
            "58000,-367664.01718441583,298.7470604982121\n",
            "59000,-367901.76718441583,299.5387387637543\n",
            "60000,-367676.89218441583,298.4208710197669\n",
            "61000,-366858.51718441583,297.45774286275764\n",
            "62000,-367186.26718441583,298.90224235561027\n",
            "63000,-366903.01718441583,299.12832386678207\n",
            "64000,-366720.51718441583,295.5214940402566\n",
            "65000,-367400.51718441583,294.47243955120825\n",
            "66000,-367051.51718441583,300.2776018228732\n",
            "67000,-367135.39218441583,297.9913701281716\n",
            "68000,-367130.14218441583,297.58220567813186\n",
            "69000,-367626.14218441583,300.79455281916665\n",
            "70000,-367635.26718441583,299.26909785689065\n",
            "71000,-367558.01718441583,299.3464180481286\n",
            "72000,-367702.51718441583,299.442057416691\n",
            "73000,-367180.39218441583,296.9025282335549\n",
            "74000,-366595.89218441583,299.9759544292359\n",
            "75000,-367187.26718441583,296.8138122854624\n",
            "76000,-367051.64218441583,297.8712883751019\n",
            "77000,-366867.76718441583,301.6596449679267\n",
            "78000,-366990.76718441583,303.92037498913857\n",
            "79000,-366474.64218441583,299.43388832717784\n",
            "80000,-366115.14218441583,301.97768830164824\n",
            "81000,-366329.76718441583,300.13383001014915\n",
            "82000,-367550.89218441583,302.6324046418637\n",
            "83000,-367711.51718441583,298.7337642701831\n",
            "84000,-366897.26718441583,299.33167885426855\n",
            "85000,-366974.01718441583,300.4315319536634\n",
            "86000,-366919.01718441583,300.9214748939006\n",
            "87000,-366782.39218441583,297.782818956824\n",
            "88000,-367221.01718441583,300.4193260977098\n",
            "89000,-367462.76718441583,299.3581288191335\n",
            "90000,-367649.76718441583,296.92831928843293\n",
            "91000,-366859.64218441583,296.8877559645266\n",
            "92000,-367645.01718441583,299.2303844929879\n",
            "93000,-366828.64218441583,300.2884189381964\n",
            "94000,-367357.89218441583,299.11576391105865\n",
            "95000,-366666.14218441583,300.6238274085223\n",
            "96000,-366479.26718441583,297.0484264875369\n",
            "97000,-367907.89218441583,299.0519846613811\n",
            "98000,-367313.89218441583,298.60973709248907\n",
            "99000,-366229.01718441583,301.00318886923935\n",
            "100000,-366392.14218441583,298.4801262239281\n"
          ]
        }
      ]
    },
    {
      "cell_type": "markdown",
      "metadata": {
        "id": "j2hTyzkW4W-Z"
      },
      "source": [
        "#This is an example of using Amber input, this could be a proper simulation, as long as your Amber input is good.✈"
      ]
    },
    {
      "cell_type": "code",
      "metadata": {
        "cellView": "form",
        "id": "g5sR2PAT8yfO",
        "outputId": "3834b443-bc6c-4ac5-f67f-e32d06caeda2",
        "colab": {
          "base_uri": "https://localhost:8080/"
        }
      },
      "source": [
        "#@title This script was generated by OpenMM-Setup on 2021-11-15.\n",
        "\n",
        "from simtk.openmm import *\n",
        "from simtk.openmm.app import *\n",
        "from simtk.unit import *\n",
        "\n",
        "# Input Files\n",
        "\n",
        "prmtop = AmberPrmtopFile('top5.prmtop')\n",
        "inpcrd = AmberInpcrdFile('top5.crd')\n",
        "\n",
        "# System Configuration\n",
        "\n",
        "nonbondedMethod = PME\n",
        "nonbondedCutoff = 1.0*nanometers\n",
        "ewaldErrorTolerance = 0.0005\n",
        "constraints = HBonds\n",
        "rigidWater = True\n",
        "constraintTolerance = 0.000001\n",
        "hydrogenMass = 1.5*amu\n",
        "\n",
        "# Integration Options\n",
        "\n",
        "dt = 0.004*picoseconds\n",
        "temperature = 300*kelvin\n",
        "friction = 1.0/picosecond\n",
        "pressure = 1.0*atmospheres\n",
        "barostatInterval = 25\n",
        "\n",
        "# Simulation Options\n",
        "\n",
        "steps = 1000000\n",
        "equilibrationSteps = 1000\n",
        "platform = Platform.getPlatformByName('CUDA')\n",
        "platformProperties = {'Precision': 'single'}\n",
        "dcdReporter = DCDReporter('trajectory.dcd', 10000)\n",
        "dataReporter = StateDataReporter('log.txt', 1000, totalSteps=steps,\n",
        "    step=True, speed=True, progress=True, potentialEnergy=True, temperature=True, separator='\\t')\n",
        "checkpointReporter = CheckpointReporter('checkpoint.chk', 10000)\n",
        "\n",
        "# Prepare the Simulation\n",
        "\n",
        "print('Building system...')\n",
        "topology = prmtop.topology\n",
        "positions = inpcrd.positions\n",
        "system = prmtop.createSystem(nonbondedMethod=nonbondedMethod, nonbondedCutoff=nonbondedCutoff,\n",
        "    constraints=constraints, rigidWater=rigidWater, ewaldErrorTolerance=ewaldErrorTolerance, hydrogenMass=hydrogenMass)\n",
        "system.addForce(MonteCarloBarostat(pressure, temperature, barostatInterval))\n",
        "integrator = LangevinMiddleIntegrator(temperature, friction, dt)\n",
        "integrator.setConstraintTolerance(constraintTolerance)\n",
        "simulation = Simulation(topology, system, integrator, platform, platformProperties)\n",
        "simulation.context.setPositions(positions)\n",
        "if inpcrd.boxVectors is not None:\n",
        "    simulation.context.setPeriodicBoxVectors(*inpcrd.boxVectors)\n",
        "\n",
        "# Minimize and Equilibrate\n",
        "\n",
        "print('Performing energy minimization...')\n",
        "simulation.minimizeEnergy()\n",
        "print('Equilibrating...')\n",
        "simulation.context.setVelocitiesToTemperature(temperature)\n",
        "simulation.step(equilibrationSteps)\n",
        "\n",
        "# Simulate\n",
        "\n",
        "print('Simulating...')\n",
        "simulation.reporters.append(dcdReporter)\n",
        "simulation.reporters.append(dataReporter)\n",
        "simulation.reporters.append(checkpointReporter)\n",
        "simulation.currentStep = 0\n",
        "simulation.step(steps)"
      ],
      "execution_count": null,
      "outputs": [
        {
          "output_type": "stream",
          "name": "stdout",
          "text": [
            "Building system...\n",
            "Performing energy minimization...\n",
            "Equilibrating...\n",
            "Simulating...\n"
          ]
        }
      ]
    },
    {
      "cell_type": "code",
      "metadata": {
        "id": "Lij2LDur4d_6",
        "cellView": "form"
      },
      "source": [
        "#@title This is the code example taken from Openmm's user guide document.\n",
        "\n",
        "from openmm.app import *\n",
        "from openmm import *\n",
        "from openmm.unit import *\n",
        "from sys import stdout\n",
        "\n",
        "prmtop = AmberPrmtopFile('SYS_gaff2.prmtop')\n",
        "inpcrd = AmberInpcrdFile('SYS_gaff2.crd')\n",
        "system = prmtop.createSystem(nonbondedMethod=PME, nonbondedCutoff=1*nanometer,\n",
        "        constraints=HBonds)\n",
        "integrator = LangevinMiddleIntegrator(300*kelvin, 1/picosecond, 0.004*picoseconds)\n",
        "simulation = Simulation(prmtop.topology, system, integrator)\n",
        "simulation.context.setPositions(inpcrd.positions)\n",
        "if inpcrd.boxVectors is not None:\n",
        "    simulation.context.setPeriodicBoxVectors(*inpcrd.boxVectors)\n",
        "simulation.minimizeEnergy()\n",
        "simulation.reporters.append(PDBReporter('amber_output.pdb', 1000))\n",
        "simulation.reporters.append(StateDataReporter(stdout, 1000, step=True,\n",
        "        potentialEnergy=True, temperature=True))\n",
        "simulation.step(10000)"
      ],
      "execution_count": null,
      "outputs": []
    },
    {
      "cell_type": "markdown",
      "metadata": {
        "id": "EDsZE0UD7l8S"
      },
      "source": [
        "#This is an example of using VMD/Charmm input. This is my personal favourate, since I use VMD exclusively.✈⛹ Just be reminded the topolog and parameter stuff sometime easy to go wrong."
      ]
    },
    {
      "cell_type": "code",
      "metadata": {
        "id": "jAKBevQE-Wd4",
        "cellView": "form"
      },
      "source": [
        "#@title 6 👋Download Charmm Force Field\n",
        "!wget https://raw.githubusercontent.com/quantaosun/NAMD-MD/main/top_all36_prot.prm \n",
        "!wget https://raw.githubusercontent.com/quantaosun/NAMD-MD/main/top_all36_prot.rtf \n",
        "!wget https://raw.githubusercontent.com/quantaosun/NAMD-MD/main/toppar_water_ions.mod.str\n",
        "!wget https://raw.githubusercontent.com/quantaosun/NAMD-MD/main/toppar_water_ions.str"
      ],
      "execution_count": null,
      "outputs": []
    },
    {
      "cell_type": "code",
      "metadata": {
        "cellView": "form",
        "id": "vCz6NMwu-ZwP"
      },
      "source": [
        "#@title Be ware of topology of small molecule. Upload all the rtf and prm you would run a normal NAMD simulation, to here in order to run an OpenMM simulation."
      ],
      "execution_count": null,
      "outputs": []
    },
    {
      "cell_type": "code",
      "metadata": {
        "id": "N1EGW7D87veZ",
        "cellView": "form"
      },
      "source": [
        "#@title  This is a simulation with PSF and PDB files generated from VMD, as an input for OpenMM\n",
        "from openmm.app import *\n",
        "from openmm import *\n",
        "from openmm.unit import *\n",
        "from sys import stdout, exit, stderr\n",
        "\n",
        "psf = CharmmPsfFile('ionized.psf')\n",
        "pdb = PDBFile('ionized.pdb')\n",
        "params = CharmmParameterSet('top_all36_prot.rtf', 'top_all36_prot.prm','toppar_water_ions.mod.str','toppar_water_ions.str','ligand_ligpargen.prm','ligand_ligpargen.rtf')\n",
        "system = psf.createSystem(params, nonbondedMethod=NoCutoff,\n",
        "        nonbondedCutoff=1*nanometer, constraints=HBonds)\n",
        "integrator = LangevinMiddleIntegrator(300*kelvin, 1/picosecond, 0.004*picoseconds)\n",
        "simulation = Simulation(psf.topology, system, integrator)\n",
        "simulation.context.setPositions(pdb.positions)\n",
        "simulation.minimizeEnergy()\n",
        "simulation.reporters.append(PDBReporter('output.pdb', 1000))\n",
        "simulation.reporters.append(DCDeporter('output.pdb', 1000))\n",
        "simulation.reporters.append(StateDataReporter(stdout, 1000, step=True,\n",
        "        potentialEnergy=True, temperature=True))\n",
        "simulation.step(10000)"
      ],
      "execution_count": null,
      "outputs": []
    }
  ]
}