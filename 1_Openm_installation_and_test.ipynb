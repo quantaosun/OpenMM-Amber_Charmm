{
  "nbformat": 4,
  "nbformat_minor": 0,
  "metadata": {
    "colab": {
      "name": "最简约的蛋白质动力学模拟.ipynb",
      "provenance": []
    },
    "kernelspec": {
      "name": "python3",
      "display_name": "Python 3"
    },
    "language_info": {
      "name": "python"
    },
    "accelerator": "GPU"
  },
  "cells": [
    {
      "cell_type": "code",
      "metadata": {
        "colab": {
          "base_uri": "https://localhost:8080/"
        },
        "id": "x6iPrchOkbRt",
        "outputId": "d98b9290-ed4a-44dd-e525-e7bb68ce6609"
      },
      "source": [
        "! wget https://repo.anaconda.com/miniconda/Miniconda3-py37_4.8.2-Linux-x86_64.sh\n",
        "! chmod +x Miniconda3-py37_4.8.2-Linux-x86_64.sh\n",
        "! bash ./Miniconda3-py37_4.8.2-Linux-x86_64.sh -b -f -p /usr/local\n",
        "#! conda install -c rdkit rdkit -y\n",
        "import sys\n",
        "sys.path.append('/usr/local/lib/python3.7/site-packages/')"
      ],
      "execution_count": 1,
      "outputs": [
        {
          "output_type": "stream",
          "name": "stdout",
          "text": [
            "--2021-11-13 09:41:02--  https://repo.anaconda.com/miniconda/Miniconda3-py37_4.8.2-Linux-x86_64.sh\n",
            "Resolving repo.anaconda.com (repo.anaconda.com)... 104.16.130.3, 104.16.131.3, 2606:4700::6810:8303, ...\n",
            "Connecting to repo.anaconda.com (repo.anaconda.com)|104.16.130.3|:443... connected.\n",
            "HTTP request sent, awaiting response... 200 OK\n",
            "Length: 85055499 (81M) [application/x-sh]\n",
            "Saving to: ‘Miniconda3-py37_4.8.2-Linux-x86_64.sh’\n",
            "\n",
            "Miniconda3-py37_4.8 100%[===================>]  81.12M   204MB/s    in 0.4s    \n",
            "\n",
            "2021-11-13 09:41:02 (204 MB/s) - ‘Miniconda3-py37_4.8.2-Linux-x86_64.sh’ saved [85055499/85055499]\n",
            "\n",
            "PREFIX=/usr/local\n",
            "Unpacking payload ...\n",
            "Collecting package metadata (current_repodata.json): - \b\b\\ \b\b| \b\bdone\n",
            "Solving environment: - \b\bdone\n",
            "\n",
            "## Package Plan ##\n",
            "\n",
            "  environment location: /usr/local\n",
            "\n",
            "  added / updated specs:\n",
            "    - _libgcc_mutex==0.1=main\n",
            "    - asn1crypto==1.3.0=py37_0\n",
            "    - ca-certificates==2020.1.1=0\n",
            "    - certifi==2019.11.28=py37_0\n",
            "    - cffi==1.14.0=py37h2e261b9_0\n",
            "    - chardet==3.0.4=py37_1003\n",
            "    - conda-package-handling==1.6.0=py37h7b6447c_0\n",
            "    - conda==4.8.2=py37_0\n",
            "    - cryptography==2.8=py37h1ba5d50_0\n",
            "    - idna==2.8=py37_0\n",
            "    - ld_impl_linux-64==2.33.1=h53a641e_7\n",
            "    - libedit==3.1.20181209=hc058e9b_0\n",
            "    - libffi==3.2.1=hd88cf55_4\n",
            "    - libgcc-ng==9.1.0=hdf63c60_0\n",
            "    - libstdcxx-ng==9.1.0=hdf63c60_0\n",
            "    - ncurses==6.2=he6710b0_0\n",
            "    - openssl==1.1.1d=h7b6447c_4\n",
            "    - pip==20.0.2=py37_1\n",
            "    - pycosat==0.6.3=py37h7b6447c_0\n",
            "    - pycparser==2.19=py37_0\n",
            "    - pyopenssl==19.1.0=py37_0\n",
            "    - pysocks==1.7.1=py37_0\n",
            "    - python==3.7.6=h0371630_2\n",
            "    - readline==7.0=h7b6447c_5\n",
            "    - requests==2.22.0=py37_1\n",
            "    - ruamel_yaml==0.15.87=py37h7b6447c_0\n",
            "    - setuptools==45.2.0=py37_0\n",
            "    - six==1.14.0=py37_0\n",
            "    - sqlite==3.31.1=h7b6447c_0\n",
            "    - tk==8.6.8=hbc83047_0\n",
            "    - tqdm==4.42.1=py_0\n",
            "    - urllib3==1.25.8=py37_0\n",
            "    - wheel==0.34.2=py37_0\n",
            "    - xz==5.2.4=h14c3975_4\n",
            "    - yaml==0.1.7=had09818_2\n",
            "    - zlib==1.2.11=h7b6447c_3\n",
            "\n",
            "\n",
            "The following NEW packages will be INSTALLED:\n",
            "\n",
            "  _libgcc_mutex      pkgs/main/linux-64::_libgcc_mutex-0.1-main\n",
            "  asn1crypto         pkgs/main/linux-64::asn1crypto-1.3.0-py37_0\n",
            "  ca-certificates    pkgs/main/linux-64::ca-certificates-2020.1.1-0\n",
            "  certifi            pkgs/main/linux-64::certifi-2019.11.28-py37_0\n",
            "  cffi               pkgs/main/linux-64::cffi-1.14.0-py37h2e261b9_0\n",
            "  chardet            pkgs/main/linux-64::chardet-3.0.4-py37_1003\n",
            "  conda              pkgs/main/linux-64::conda-4.8.2-py37_0\n",
            "  conda-package-han~ pkgs/main/linux-64::conda-package-handling-1.6.0-py37h7b6447c_0\n",
            "  cryptography       pkgs/main/linux-64::cryptography-2.8-py37h1ba5d50_0\n",
            "  idna               pkgs/main/linux-64::idna-2.8-py37_0\n",
            "  ld_impl_linux-64   pkgs/main/linux-64::ld_impl_linux-64-2.33.1-h53a641e_7\n",
            "  libedit            pkgs/main/linux-64::libedit-3.1.20181209-hc058e9b_0\n",
            "  libffi             pkgs/main/linux-64::libffi-3.2.1-hd88cf55_4\n",
            "  libgcc-ng          pkgs/main/linux-64::libgcc-ng-9.1.0-hdf63c60_0\n",
            "  libstdcxx-ng       pkgs/main/linux-64::libstdcxx-ng-9.1.0-hdf63c60_0\n",
            "  ncurses            pkgs/main/linux-64::ncurses-6.2-he6710b0_0\n",
            "  openssl            pkgs/main/linux-64::openssl-1.1.1d-h7b6447c_4\n",
            "  pip                pkgs/main/linux-64::pip-20.0.2-py37_1\n",
            "  pycosat            pkgs/main/linux-64::pycosat-0.6.3-py37h7b6447c_0\n",
            "  pycparser          pkgs/main/linux-64::pycparser-2.19-py37_0\n",
            "  pyopenssl          pkgs/main/linux-64::pyopenssl-19.1.0-py37_0\n",
            "  pysocks            pkgs/main/linux-64::pysocks-1.7.1-py37_0\n",
            "  python             pkgs/main/linux-64::python-3.7.6-h0371630_2\n",
            "  readline           pkgs/main/linux-64::readline-7.0-h7b6447c_5\n",
            "  requests           pkgs/main/linux-64::requests-2.22.0-py37_1\n",
            "  ruamel_yaml        pkgs/main/linux-64::ruamel_yaml-0.15.87-py37h7b6447c_0\n",
            "  setuptools         pkgs/main/linux-64::setuptools-45.2.0-py37_0\n",
            "  six                pkgs/main/linux-64::six-1.14.0-py37_0\n",
            "  sqlite             pkgs/main/linux-64::sqlite-3.31.1-h7b6447c_0\n",
            "  tk                 pkgs/main/linux-64::tk-8.6.8-hbc83047_0\n",
            "  tqdm               pkgs/main/noarch::tqdm-4.42.1-py_0\n",
            "  urllib3            pkgs/main/linux-64::urllib3-1.25.8-py37_0\n",
            "  wheel              pkgs/main/linux-64::wheel-0.34.2-py37_0\n",
            "  xz                 pkgs/main/linux-64::xz-5.2.4-h14c3975_4\n",
            "  yaml               pkgs/main/linux-64::yaml-0.1.7-had09818_2\n",
            "  zlib               pkgs/main/linux-64::zlib-1.2.11-h7b6447c_3\n",
            "\n",
            "\n",
            "Preparing transaction: | \b\b/ \b\b- \b\bdone\n",
            "Executing transaction: | \b\b/ \b\b- \b\b\\ \b\b| \b\b/ \b\b- \b\b\\ \b\b| \b\b/ \b\b- \b\b\\ \b\b| \b\b/ \b\b- \b\b\\ \b\b| \b\b/ \b\bdone\n",
            "installation finished.\n",
            "WARNING:\n",
            "    You currently have a PYTHONPATH environment variable set. This may cause\n",
            "    unexpected behavior when running the Python interpreter in Miniconda3.\n",
            "    For best results, please verify that your PYTHONPATH only points to\n",
            "    directories of packages that are compatible with the Python interpreter\n",
            "    in Miniconda3: /usr/local\n"
          ]
        }
      ]
    },
    {
      "cell_type": "code",
      "metadata": {
        "colab": {
          "base_uri": "https://localhost:8080/"
        },
        "id": "zc9QbRO7kbhb",
        "outputId": "7c7e769d-79a7-4c0d-e82c-3c91420ef8cf"
      },
      "source": [
        "!yes|conda install -c conda-forge openmm"
      ],
      "execution_count": 2,
      "outputs": [
        {
          "output_type": "stream",
          "name": "stdout",
          "text": [
            "Collecting package metadata (current_repodata.json): - \b\b\\ \b\b| \b\b/ \b\b- \b\b\\ \b\b| \b\b/ \b\b- \b\b\\ \b\b| \b\b/ \b\b- \b\b\\ \b\b| \b\b/ \b\b- \b\b\\ \b\b| \b\b/ \b\b- \b\b\\ \b\b| \b\b/ \b\b- \b\b\\ \b\b| \b\b/ \b\b- \b\b\\ \b\b| \b\b/ \b\b- \b\b\\ \b\b| \b\b/ \b\b- \b\b\\ \b\b| \b\b/ \b\b- \b\b\\ \b\b| \b\b/ \b\b- \b\b\\ \b\b| \b\b/ \b\b- \b\b\\ \b\b| \b\b/ \b\b- \b\b\\ \b\b| \b\b/ \b\b- \b\b\\ \b\b| \b\b/ \b\b- \b\b\\ \b\b| \b\b/ \b\b- \b\b\\ \b\b| \b\b/ \b\b- \b\b\\ \b\b| \b\b/ \b\b- \b\b\\ \b\b| \b\b/ \b\b- \b\b\\ \b\b| \b\b/ \b\bdone\n",
            "Solving environment: \\ \b\b| \b\b/ \b\b- \b\b\\ \b\b| \b\b/ \b\b- \b\b\\ \b\b| \b\b/ \b\b- \b\b\\ \b\b| \b\b/ \b\b- \b\b\\ \b\b| \b\b/ \b\b- \b\b\\ \b\b| \b\b/ \b\b- \b\b\\ \b\b| \b\b/ \b\b- \b\b\\ \b\b| \b\b/ \b\b- \b\b\\ \b\b| \b\b/ \b\b- \b\b\\ \b\b| \b\b/ \b\b- \b\bdone\n",
            "\n",
            "\n",
            "==> WARNING: A newer version of conda exists. <==\n",
            "  current version: 4.8.2\n",
            "  latest version: 4.10.3\n",
            "\n",
            "Please update conda by running\n",
            "\n",
            "    $ conda update -n base -c defaults conda\n",
            "\n",
            "\n",
            "\n",
            "## Package Plan ##\n",
            "\n",
            "  environment location: /usr/local\n",
            "\n",
            "  added / updated specs:\n",
            "    - openmm\n",
            "\n",
            "\n",
            "The following packages will be downloaded:\n",
            "\n",
            "    package                    |            build\n",
            "    ---------------------------|-----------------\n",
            "    _libgcc_mutex-0.1          |      conda_forge           3 KB  conda-forge\n",
            "    _openmp_mutex-4.5          |            1_gnu          22 KB  conda-forge\n",
            "    ca-certificates-2021.10.8  |       ha878542_0         139 KB  conda-forge\n",
            "    certifi-2021.10.8          |   py37h89c1867_1         145 KB  conda-forge\n",
            "    conda-4.10.3               |   py37h89c1867_3         3.1 MB  conda-forge\n",
            "    cudatoolkit-10.2.89        |       hfd86e86_1       365.1 MB\n",
            "    fftw-3.3.10                |nompi_h74d3f13_101         6.4 MB  conda-forge\n",
            "    libblas-3.9.0              |12_linux64_openblas          12 KB  conda-forge\n",
            "    libcblas-3.9.0             |12_linux64_openblas          12 KB  conda-forge\n",
            "    libgcc-ng-11.2.0           |      h1d223b6_11         887 KB  conda-forge\n",
            "    libgfortran-ng-11.2.0      |      h69a702a_11          19 KB  conda-forge\n",
            "    libgfortran5-11.2.0        |      h5c6108e_11         1.7 MB  conda-forge\n",
            "    libgomp-11.2.0             |      h1d223b6_11         427 KB  conda-forge\n",
            "    liblapack-3.9.0            |12_linux64_openblas          12 KB  conda-forge\n",
            "    libopenblas-0.3.18         |pthreads_h8fe5266_0         9.6 MB  conda-forge\n",
            "    numpy-1.21.4               |   py37h31617e3_0         6.1 MB  conda-forge\n",
            "    ocl-icd-2.3.1              |       h7f98852_0         119 KB  conda-forge\n",
            "    ocl-icd-system-1.0.0       |                1           4 KB  conda-forge\n",
            "    openmm-7.6.0               |   py37hb6a88b9_0        10.8 MB  conda-forge\n",
            "    openssl-1.1.1l             |       h7f98852_0         2.1 MB  conda-forge\n",
            "    python_abi-3.7             |          2_cp37m           4 KB  conda-forge\n",
            "    ------------------------------------------------------------\n",
            "                                           Total:       406.6 MB\n",
            "\n",
            "The following NEW packages will be INSTALLED:\n",
            "\n",
            "  _openmp_mutex      conda-forge/linux-64::_openmp_mutex-4.5-1_gnu\n",
            "  cudatoolkit        pkgs/main/linux-64::cudatoolkit-10.2.89-hfd86e86_1\n",
            "  fftw               conda-forge/linux-64::fftw-3.3.10-nompi_h74d3f13_101\n",
            "  libblas            conda-forge/linux-64::libblas-3.9.0-12_linux64_openblas\n",
            "  libcblas           conda-forge/linux-64::libcblas-3.9.0-12_linux64_openblas\n",
            "  libgfortran-ng     conda-forge/linux-64::libgfortran-ng-11.2.0-h69a702a_11\n",
            "  libgfortran5       conda-forge/linux-64::libgfortran5-11.2.0-h5c6108e_11\n",
            "  libgomp            conda-forge/linux-64::libgomp-11.2.0-h1d223b6_11\n",
            "  liblapack          conda-forge/linux-64::liblapack-3.9.0-12_linux64_openblas\n",
            "  libopenblas        conda-forge/linux-64::libopenblas-0.3.18-pthreads_h8fe5266_0\n",
            "  numpy              conda-forge/linux-64::numpy-1.21.4-py37h31617e3_0\n",
            "  ocl-icd            conda-forge/linux-64::ocl-icd-2.3.1-h7f98852_0\n",
            "  ocl-icd-system     conda-forge/linux-64::ocl-icd-system-1.0.0-1\n",
            "  openmm             conda-forge/linux-64::openmm-7.6.0-py37hb6a88b9_0\n",
            "  python_abi         conda-forge/linux-64::python_abi-3.7-2_cp37m\n",
            "\n",
            "The following packages will be UPDATED:\n",
            "\n",
            "  ca-certificates     pkgs/main::ca-certificates-2020.1.1-0 --> conda-forge::ca-certificates-2021.10.8-ha878542_0\n",
            "  certifi              pkgs/main::certifi-2019.11.28-py37_0 --> conda-forge::certifi-2021.10.8-py37h89c1867_1\n",
            "  conda                       pkgs/main::conda-4.8.2-py37_0 --> conda-forge::conda-4.10.3-py37h89c1867_3\n",
            "  libgcc-ng           pkgs/main::libgcc-ng-9.1.0-hdf63c60_0 --> conda-forge::libgcc-ng-11.2.0-h1d223b6_11\n",
            "  openssl              pkgs/main::openssl-1.1.1d-h7b6447c_4 --> conda-forge::openssl-1.1.1l-h7f98852_0\n",
            "\n",
            "The following packages will be SUPERSEDED by a higher-priority channel:\n",
            "\n",
            "  _libgcc_mutex           pkgs/main::_libgcc_mutex-0.1-main --> conda-forge::_libgcc_mutex-0.1-conda_forge\n",
            "\n",
            "\n",
            "Proceed ([y]/n)? y\n",
            "\n",
            "\n",
            "Downloading and Extracting Packages\n",
            "ocl-icd-system-1.0.0 | 4 KB      | : 100% 1.0/1 [00:00<00:00, 12.37it/s]\n",
            "libblas-3.9.0        | 12 KB     | : 100% 1.0/1 [00:00<00:00, 22.73it/s]\n",
            "openmm-7.6.0         | 10.8 MB   | : 100% 1.0/1 [00:02<00:00,  2.99s/it]               \n",
            "cudatoolkit-10.2.89  | 365.1 MB  | : 100% 1.0/1 [00:09<00:00, 70.31s/it]               \n",
            "libgfortran-ng-11.2. | 19 KB     | : 100% 1.0/1 [00:00<00:00, 24.67it/s]\n",
            "libgfortran5-11.2.0  | 1.7 MB    | : 100% 1.0/1 [00:00<00:00,  3.06it/s]\n",
            "fftw-3.3.10          | 6.4 MB    | : 100% 1.0/1 [00:01<00:00,  1.13s/it]\n",
            "libgcc-ng-11.2.0     | 887 KB    | : 100% 1.0/1 [00:00<00:00,  6.14it/s]\n",
            "liblapack-3.9.0      | 12 KB     | : 100% 1.0/1 [00:00<00:00, 18.68it/s]\n",
            "ca-certificates-2021 | 139 KB    | : 100% 1.0/1 [00:00<00:00, 17.34it/s]\n",
            "ocl-icd-2.3.1        | 119 KB    | : 100% 1.0/1 [00:00<00:00, 15.63it/s]\n",
            "_libgcc_mutex-0.1    | 3 KB      | : 100% 1.0/1 [00:00<00:00, 21.70it/s]\n",
            "libcblas-3.9.0       | 12 KB     | : 100% 1.0/1 [00:00<00:00, 22.40it/s]\n",
            "python_abi-3.7       | 4 KB      | : 100% 1.0/1 [00:00<00:00, 25.11it/s]\n",
            "libopenblas-0.3.18   | 9.6 MB    | : 100% 1.0/1 [00:01<00:00,  1.53s/it]               \n",
            "certifi-2021.10.8    | 145 KB    | : 100% 1.0/1 [00:00<00:00, 18.74it/s]\n",
            "openssl-1.1.1l       | 2.1 MB    | : 100% 1.0/1 [00:00<00:00,  2.95it/s]\n",
            "numpy-1.21.4         | 6.1 MB    | : 100% 1.0/1 [00:01<00:00,  1.24s/it]\n",
            "libgomp-11.2.0       | 427 KB    | : 100% 1.0/1 [00:00<00:00, 11.57it/s]\n",
            "conda-4.10.3         | 3.1 MB    | : 100% 1.0/1 [00:00<00:00,  1.69it/s]\n",
            "_openmp_mutex-4.5    | 22 KB     | : 100% 1.0/1 [00:00<00:00, 33.07it/s]\n",
            "Preparing transaction: | \b\b/ \b\bdone\n",
            "Verifying transaction: \\ \b\b| \b\b/ \b\b- \b\bdone\n",
            "Executing transaction: | \b\b/ \b\b- \b\b\\ \b\b| \b\b/ \b\bdone\n"
          ]
        }
      ]
    },
    {
      "cell_type": "code",
      "metadata": {
        "colab": {
          "base_uri": "https://localhost:8080/"
        },
        "id": "TY2b9N3jl2Uw",
        "outputId": "78459d72-2651-4e14-f630-9e00bed29135"
      },
      "source": [
        "!yes|conda install -c conda-forge pdbfixer"
      ],
      "execution_count": 5,
      "outputs": [
        {
          "output_type": "stream",
          "name": "stdout",
          "text": [
            "Collecting package metadata (current_repodata.json): - \b\b\\ \b\b| \b\b/ \b\b- \b\b\\ \b\b| \b\b/ \b\b- \b\b\\ \b\b| \b\b/ \b\b- \b\b\\ \b\b| \b\b/ \b\b- \b\b\\ \b\b| \b\b/ \b\b- \b\b\\ \b\b| \b\b/ \b\b- \b\b\\ \b\b| \b\b/ \b\b- \b\b\\ \b\b| \b\b/ \b\b- \b\b\\ \b\b| \b\b/ \b\b- \b\b\\ \b\b| \b\b/ \b\b- \b\b\\ \b\b| \b\b/ \b\b- \b\b\\ \b\b| \b\b/ \b\b- \b\b\\ \b\b| \b\b/ \b\b- \b\b\\ \b\b| \b\b/ \b\b- \b\b\\ \b\b| \b\b/ \b\b- \b\b\\ \b\b| \b\b/ \b\b- \b\b\\ \b\b| \b\b/ \b\b- \b\b\\ \b\b| \b\b/ \b\b- \b\b\\ \b\bdone\n",
            "Solving environment: / \b\b- \b\b\\ \b\b| \b\b/ \b\b- \b\b\\ \b\b| \b\b/ \b\b- \b\b\\ \b\b| \b\bdone\n",
            "\n",
            "## Package Plan ##\n",
            "\n",
            "  environment location: /usr/local\n",
            "\n",
            "  added / updated specs:\n",
            "    - pdbfixer\n",
            "\n",
            "\n",
            "The following packages will be downloaded:\n",
            "\n",
            "    package                    |            build\n",
            "    ---------------------------|-----------------\n",
            "    pdbfixer-1.8.1             |     pyh6c4a22f_0         498 KB  conda-forge\n",
            "    ------------------------------------------------------------\n",
            "                                           Total:         498 KB\n",
            "\n",
            "The following NEW packages will be INSTALLED:\n",
            "\n",
            "  pdbfixer           conda-forge/noarch::pdbfixer-1.8.1-pyh6c4a22f_0\n",
            "\n",
            "\n",
            "Proceed ([y]/n)? \n",
            "\n",
            "Downloading and Extracting Packages\n",
            "pdbfixer-1.8.1       | 498 KB    | : 100% 1.0/1 [00:00<00:00,  5.39it/s]               \n",
            "Preparing transaction: - \b\bdone\n",
            "Verifying transaction: | \b\bdone\n",
            "Executing transaction: - \b\b\\ \b\b| \b\b/ \b\bdone\n"
          ]
        }
      ]
    },
    {
      "cell_type": "code",
      "metadata": {
        "id": "gDCRy7FwsgJu"
      },
      "source": [
        "#@title Verify the installation is successful.\n",
        "!python -m openmm.testInstallation"
      ],
      "execution_count": null,
      "outputs": []
    },
    {
      "cell_type": "code",
      "metadata": {
        "colab": {
          "base_uri": "https://localhost:8080/"
        },
        "id": "NG8-Mi_zoelD",
        "outputId": "5140a313-e824-4fa7-ffb9-392e280fec58"
      },
      "source": [
        "!pdbfixer --help"
      ],
      "execution_count": 4,
      "outputs": [
        {
          "output_type": "stream",
          "name": "stdout",
          "text": [
            "/bin/bash: pdbfixer: command not found\n"
          ]
        }
      ]
    },
    {
      "cell_type": "code",
      "metadata": {
        "colab": {
          "base_uri": "https://localhost:8080/"
        },
        "id": "7fXgmwd8phqM",
        "outputId": "1912ba8f-86ff-4f9c-c19b-88c5769b0447"
      },
      "source": [
        "!pdbfixer --pdbid=3htb --output=myfile.pdb --add-residues "
      ],
      "execution_count": 6,
      "outputs": [
        {
          "output_type": "stream",
          "name": "stdout",
          "text": [
            "Warning: importing 'simtk.openmm' is deprecated.  Import 'openmm' instead.\n"
          ]
        }
      ]
    },
    {
      "cell_type": "code",
      "metadata": {
        "colab": {
          "base_uri": "https://localhost:8080/"
        },
        "id": "x8M_pSlsl5g6",
        "outputId": "674ac26a-2346-4a85-8e69-01c806e8d034"
      },
      "source": [
        "from pdbfixer import PDBFixer\n",
        "from simtk.openmm.app import PDBFile\n",
        "fixer = PDBFixer(filename='myfile.pdb')\n",
        "fixer.findMissingResidues()\n",
        "fixer.findNonstandardResidues()\n",
        "fixer.replaceNonstandardResidues()\n",
        "fixer.removeHeterogens(True)\n",
        "fixer.findMissingAtoms()\n",
        "fixer.addMissingAtoms()\n",
        "fixer.addMissingHydrogens(7.0)\n",
        "fixer.addSolvent(fixer.topology.getUnitCellDimensions())\n",
        "PDBFile.writeFile(fixer.topology, fixer.positions, open('input.pdb', 'w'))"
      ],
      "execution_count": 7,
      "outputs": [
        {
          "output_type": "stream",
          "name": "stderr",
          "text": [
            "Warning: importing 'simtk.openmm' is deprecated.  Import 'openmm' instead.\n"
          ]
        }
      ]
    },
    {
      "cell_type": "code",
      "metadata": {
        "colab": {
          "base_uri": "https://localhost:8080/"
        },
        "id": "RJpJNOkzkbqu",
        "outputId": "01422255-4588-407a-9724-27ad00ba7605"
      },
      "source": [
        "from simtk.openmm.app import *\n",
        "from simtk.openmm import *\n",
        "from simtk.unit import *\n",
        "from sys import stdout\n",
        "\n",
        "pdb = PDBFile('input.pdb')\n",
        "forcefield = ForceField('amber99sb.xml', 'tip3p.xml')\n",
        "system = forcefield.createSystem(pdb.topology, nonbondedMethod=PME, nonbondedCutoff=1*nanometer, constraints=HBonds)\n",
        "integrator = LangevinIntegrator(300*kelvin, 1/picosecond, 0.002*picoseconds)\n",
        "simulation = Simulation(pdb.topology, system, integrator)\n",
        "simulation.context.setPositions(pdb.positions)\n",
        "simulation.minimizeEnergy()\n",
        "simulation.reporters.append(PDBReporter('output.pdb', 1000))\n",
        "simulation.reporters.append(StateDataReporter(stdout, 1000, step=True, potentialEnergy=True, temperature=True))\n",
        "simulation.step(100000)"
      ],
      "execution_count": 8,
      "outputs": [
        {
          "output_type": "stream",
          "name": "stdout",
          "text": [
            "#\"Step\",\"Potential Energy (kJ/mole)\",\"Temperature (K)\"\n",
            "1000,-392609.21600854653,249.3941835096339\n",
            "2000,-374356.21600854653,285.94248568552973\n",
            "3000,-369409.46600854653,295.76300705763134\n",
            "4000,-366952.96600854653,296.59226135926866\n",
            "5000,-366697.46600854653,304.2851370208874\n",
            "6000,-366624.71600854653,303.4876777064522\n",
            "7000,-367322.71600854653,301.41255148463364\n",
            "8000,-367274.46600854653,300.82602651047546\n",
            "9000,-366939.96600854653,296.82666584149314\n",
            "10000,-367423.34100854653,294.52857979498384\n",
            "11000,-368577.84100854653,299.8805092851862\n",
            "12000,-366921.46600854653,297.6966602115752\n",
            "13000,-367253.71600854653,298.96036047491435\n",
            "14000,-367965.21600854653,299.58562691255486\n",
            "15000,-366953.96600854653,299.6261365336205\n",
            "16000,-367131.21600854653,297.6280891631168\n",
            "17000,-366616.59100854653,299.28016311470805\n",
            "18000,-367521.46600854653,299.203634031865\n",
            "19000,-367720.46600854653,300.82257261539127\n",
            "20000,-366915.34100854653,298.9929633515121\n",
            "21000,-367099.34100854653,298.5924640009258\n",
            "22000,-367252.96600854653,299.067094936089\n",
            "23000,-368047.71600854653,297.4428960022527\n",
            "24000,-368522.21600854653,300.4615191211081\n",
            "25000,-367095.34100854653,299.3858472094353\n",
            "26000,-368791.71600854653,301.15467392827424\n",
            "27000,-367128.46600854653,296.06971941072754\n",
            "28000,-366759.46600854653,299.92678898121954\n",
            "29000,-368175.71600854653,298.3833931031396\n",
            "30000,-366750.09100854653,298.40043376311723\n",
            "31000,-367140.34100854653,299.336891323712\n",
            "32000,-367216.46600854653,298.4582110705206\n",
            "33000,-366666.84100854653,300.14990241277644\n",
            "34000,-366636.96600854653,300.79298156457384\n",
            "35000,-368442.46600854653,302.86511113408267\n",
            "36000,-368514.84100854653,298.9684078003527\n",
            "37000,-366931.96600854653,296.6408031752029\n",
            "38000,-367832.21600854653,300.19162555538355\n",
            "39000,-367108.46600854653,301.66394598492843\n",
            "40000,-366404.21600854653,301.6561226123632\n",
            "41000,-367049.84100854653,303.2509912983882\n",
            "42000,-367687.84100854653,300.53191449903574\n",
            "43000,-366552.34100854653,296.979355439559\n",
            "44000,-367529.21600854653,303.6417109174071\n",
            "45000,-366412.96600854653,300.627004754427\n",
            "46000,-366838.71600854653,299.74039008212344\n",
            "47000,-367364.59100854653,299.10595900810785\n",
            "48000,-367579.46600854653,299.6886833505758\n",
            "49000,-367240.21600854653,299.83003643468624\n",
            "50000,-367505.59100854653,300.568108844922\n",
            "51000,-366625.21600854653,301.8760746795763\n",
            "52000,-366968.34100854653,300.01481212074583\n",
            "53000,-367649.21600854653,301.74221231633436\n",
            "54000,-367079.96600854653,300.33343642512904\n",
            "55000,-367087.71600854653,302.4712419925541\n",
            "56000,-366497.46600854653,303.6097608958818\n",
            "57000,-366452.34100854653,301.5831774529799\n",
            "58000,-367236.71600854653,300.2984958284323\n",
            "59000,-367225.96600854653,300.7752698339841\n",
            "60000,-366847.59100854653,299.9505708096843\n",
            "61000,-366929.59100854653,300.65069992217946\n",
            "62000,-366946.46600854653,301.1602275112548\n",
            "63000,-367857.96600854653,301.6768930928078\n",
            "64000,-368189.46600854653,302.0316142316713\n",
            "65000,-367009.21600854653,298.38686124265814\n",
            "66000,-366837.96600854653,298.08980425200315\n",
            "67000,-367881.59100854653,299.3054035879354\n",
            "68000,-367712.84100854653,298.0155223668388\n",
            "69000,-367540.34100854653,300.1697342920014\n",
            "70000,-368055.59100854653,299.0424967078831\n",
            "71000,-368135.46600854653,300.3567390615558\n",
            "72000,-366254.96600854653,302.2679185148192\n",
            "73000,-367380.96600854653,301.5403368614659\n",
            "74000,-367959.46600854653,299.23404799658323\n",
            "75000,-365890.46600854653,299.28016411161576\n",
            "76000,-367907.46600854653,299.59439862665\n",
            "77000,-367710.21600854653,298.9255925608882\n",
            "78000,-367372.09100854653,298.9933550169324\n",
            "79000,-367704.59100854653,304.1421005622884\n",
            "80000,-367772.59100854653,300.6041217422708\n",
            "81000,-367268.09100854653,298.72682707134595\n",
            "82000,-367767.59100854653,300.6534519078103\n",
            "83000,-367116.84100854653,300.06928696061595\n",
            "84000,-366915.34100854653,297.65488913625455\n",
            "85000,-367609.71600854653,301.2889847150685\n",
            "86000,-367596.59100854653,298.937249863872\n",
            "87000,-367752.96600854653,299.09099984887956\n",
            "88000,-367172.84100854653,300.00162728498304\n",
            "89000,-366752.71600854653,298.1739075017257\n",
            "90000,-367434.46600854653,302.0177945367824\n",
            "91000,-366984.71600854653,299.30553318925905\n",
            "92000,-367537.34100854653,298.7613509274566\n",
            "93000,-367257.71600854653,300.2591328201158\n",
            "94000,-368161.96600854653,300.2052093367766\n",
            "95000,-367689.96600854653,301.00560740693095\n",
            "96000,-367122.46600854653,300.33936192216845\n",
            "97000,-367386.59100854653,296.43354151188225\n",
            "98000,-367917.59100854653,301.07488341960203\n",
            "99000,-367999.46600854653,300.8288571073798\n",
            "100000,-368133.96600854653,298.91038571773674\n"
          ]
        }
      ]
    }
  ]
}